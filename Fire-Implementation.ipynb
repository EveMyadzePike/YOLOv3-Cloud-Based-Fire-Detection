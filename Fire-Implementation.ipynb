{
 "cells": [
  {
   "cell_type": "markdown",
   "metadata": {},
   "source": [
    "## Generic YoloV3 Testing (Frame by Frame)"
   ]
  },
  {
   "cell_type": "code",
   "execution_count": 1,
   "metadata": {},
   "outputs": [],
   "source": [
    "import cv2\n",
    "import time\n",
    "import numpy as np\n",
    "import matplotlib.pyplot as plt\n",
    "from PIL import Image\n",
    "from keras.preprocessing import image\n",
    "from keras.models import load_model\n",
    "import random \n",
    "import imutils\n",
    "import sys"
   ]
  },
  {
   "cell_type": "code",
   "execution_count": 2,
   "metadata": {},
   "outputs": [],
   "source": [
    "class YOLO:\n",
    "\n",
    "    def __init__(self, config, model, labels, size=416, confidence=0.5, threshold=0.3):\n",
    "        self.confidence = confidence\n",
    "        self.threshold = threshold\n",
    "        self.size = size\n",
    "        self.labels = labels\n",
    "        self.net = cv2.dnn.readNetFromDarknet(config, model)\n",
    "\n",
    "    def inference(self, image):\n",
    "        ih, iw = image.shape[:2]\n",
    "\n",
    "        ln = self.net.getLayerNames()\n",
    "        ln = [ln[i[0] - 1] for i in self.net.getUnconnectedOutLayers()]\n",
    "\n",
    "        blob = cv2.dnn.blobFromImage(image, 1 / 255.0, (self.size, self.size), swapRB=True, crop=False)\n",
    "        self.net.setInput(blob)\n",
    "        start = time.time()\n",
    "        layerOutputs = self.net.forward(ln)\n",
    "        end = time.time()\n",
    "        inference_time = end - start\n",
    "\n",
    "        boxes = []\n",
    "        confidences = []\n",
    "        classIDs = []\n",
    "\n",
    "        for output in layerOutputs:\n",
    "            for detection in output:\n",
    "                scores = detection[5:]\n",
    "                classID = np.argmax(scores)\n",
    "                confidence = scores[classID]\n",
    "                if confidence > self.confidence:\n",
    "                    box = detection[0:4] * np.array([iw, ih, iw, ih])\n",
    "                    (centerX, centerY, width, height) = box.astype(\"int\")\n",
    "                    x = int(centerX - (width / 2))\n",
    "                    y = int(centerY - (height / 2))\n",
    "                    boxes.append([x, y, int(width), int(height)])\n",
    "                    confidences.append(float(confidence))\n",
    "                    classIDs.append(classID)\n",
    "\n",
    "        idxs = cv2.dnn.NMSBoxes(boxes, confidences, self.confidence, self.threshold)\n",
    "\n",
    "        results = []\n",
    "        if len(idxs) > 0:\n",
    "            for i in idxs.flatten():\n",
    "                x, y = (boxes[i][0], boxes[i][1])\n",
    "                w, h = (boxes[i][2], boxes[i][3])\n",
    "                id = classIDs[i]\n",
    "                confidence = confidences[i]\n",
    "\n",
    "                results.append((id, self.labels[id], confidence, x, y, w, h))\n",
    "\n",
    "        return iw, ih, inference_time, results\n"
   ]
  },
  {
   "cell_type": "code",
   "execution_count": null,
   "metadata": {},
   "outputs": [],
   "source": [
    "cap=cv2.VideoCapture('vid1.mp4')\n",
    "img_counter = 0\n",
    "fourcc = cv2.VideoWriter_fourcc(*'XVID')\n",
    "out = cv2.VideoWriter('output.mp4', fourcc, 20.0, (640,  480))\n",
    "yolo = YOLO(\"yolov3/yolov3_custom.cfg\", \"yolov3/yolov3_custom1_1000.weights\", [\"Fire\"])\n",
    "while True:\n",
    "    ret, frame = cap.read()\n",
    "    img_counter += 1\n",
    "    print(\"frame: \", img_counter)\n",
    "    width, height, inference_time, results = yolo.inference(frame)\n",
    "    for detection in results:\n",
    "        id, name, confidence, x, y, w, h = detection\n",
    "        color = (0, 255, 255)\n",
    "        cv2.rectangle(frame, (x, y), (x + w, y + h), color, 2)\n",
    "        cv2.putText(frame, 'Fire', (x, y - 5), cv2.FONT_HERSHEY_SIMPLEX,0.5, color, 2)\n",
    "    \n",
    "    out.write(frame)\n",
    "    prv = cv2.resize(frame, (500,500))\n",
    "    cv2.imshow(\"preview\", prv)\n",
    "    if cv2.waitKey(1)==ord('q'):\n",
    "        break\n",
    "        \n",
    "cap.release()\n",
    "out.release()\n",
    "cv2.destroyAllWindows()\n"
   ]
  },
  {
   "cell_type": "code",
   "execution_count": null,
   "metadata": {},
   "outputs": [],
   "source": []
  },
  {
   "cell_type": "markdown",
   "metadata": {},
   "source": [
    "## YOLOv3 Testing On Single Image"
   ]
  },
  {
   "cell_type": "code",
   "execution_count": 3,
   "metadata": {},
   "outputs": [],
   "source": [
    "import cv2\n",
    "import time\n",
    "import numpy as np\n",
    "import matplotlib.pyplot as plt\n",
    "from PIL import Image\n",
    "from keras.preprocessing import image\n",
    "from keras.models import load_model\n",
    "import random \n",
    "import imutils\n",
    "import sys"
   ]
  },
  {
   "cell_type": "code",
   "execution_count": 22,
   "metadata": {},
   "outputs": [
    {
     "name": "stdout",
     "output_type": "stream",
     "text": [
      "[(0, 'Fire', 0.5371169447898865, 33, 41, 111, 76)]\n"
     ]
    },
    {
     "data": {
      "text/plain": [
       "-1"
      ]
     },
     "execution_count": 22,
     "metadata": {},
     "output_type": "execute_result"
    }
   ],
   "source": [
    "frame = cv2.imread('images/fire8.jpg')\n",
    "x=frame\n",
    "\n",
    "yolo = YOLO(\"yolov3/yolov3_custom.cfg\", \"yolov3/yolov3_custom1_1000.weights\", [\"Fire\"])\n",
    "width, height, inference_time, results = yolo.inference(x)\n",
    "\n",
    "if(results==[]):\n",
    "    cv2.putText(frame, 'No Fire', (0, 160), cv2.FONT_HERSHEY_SIMPLEX,2, color, 3)\n",
    "else:\n",
    "    for detection in results:\n",
    "        id, name, confidence, x, y, w, h = detection\n",
    "        color = (0, 255, 255)\n",
    "        cv2.rectangle(frame, (x, y), (x + w, y + h), color, 2)\n",
    "        cv2.putText(frame, 'Fire', (x, y - 5), cv2.FONT_HERSHEY_SIMPLEX,0.5, color, 2)\n",
    "\n",
    "print(results)\n",
    "frame = cv2.resize(frame, (250,250))\n",
    "cv2.imshow(\"preview\", frame)\n",
    "cv2.waitKey(0)"
   ]
  },
  {
   "cell_type": "markdown",
   "metadata": {},
   "source": [
    "## Testing Video in Batches"
   ]
  },
  {
   "cell_type": "code",
   "execution_count": 1,
   "metadata": {},
   "outputs": [],
   "source": [
    "import cv2\n",
    "import time\n",
    "import numpy as np\n",
    "import matplotlib.pyplot as plt\n",
    "from PIL import Image\n",
    "from keras.preprocessing import image\n",
    "from keras.models import load_model\n",
    "import random \n",
    "import imutils\n",
    "import sys\n",
    "import glob"
   ]
  },
  {
   "cell_type": "code",
   "execution_count": 2,
   "metadata": {},
   "outputs": [],
   "source": [
    "class YOLO:\n",
    "\n",
    "    def __init__(self, config, model, labels, size=416, confidence=0.5, threshold=0.3):\n",
    "        self.confidence = confidence\n",
    "        self.threshold = threshold\n",
    "        self.size = size\n",
    "        self.labels = labels\n",
    "        self.net = cv2.dnn.readNetFromDarknet(config, model)\n",
    "\n",
    "    def inference(self, image):\n",
    "        ih, iw = image.shape[:2]\n",
    "\n",
    "        ln = self.net.getLayerNames()\n",
    "        ln = [ln[i[0] - 1] for i in self.net.getUnconnectedOutLayers()]\n",
    "\n",
    "        blob = cv2.dnn.blobFromImage(image, 1 / 255.0, (self.size, self.size), swapRB=True, crop=False)\n",
    "        self.net.setInput(blob)\n",
    "        start = time.time()\n",
    "        layerOutputs = self.net.forward(ln)\n",
    "        end = time.time()\n",
    "        inference_time = end - start\n",
    "\n",
    "        boxes = []\n",
    "        confidences = []\n",
    "        classIDs = []\n",
    "\n",
    "        for output in layerOutputs:\n",
    "            for detection in output:\n",
    "                scores = detection[5:]\n",
    "                classID = np.argmax(scores)\n",
    "                confidence = scores[classID]\n",
    "                if confidence > self.confidence:\n",
    "                    box = detection[0:4] * np.array([iw, ih, iw, ih])\n",
    "                    (centerX, centerY, width, height) = box.astype(\"int\")\n",
    "                    x = int(centerX - (width / 2))\n",
    "                    y = int(centerY - (height / 2))\n",
    "                    boxes.append([x, y, int(width), int(height)])\n",
    "                    confidences.append(float(confidence))\n",
    "                    classIDs.append(classID)\n",
    "\n",
    "        idxs = cv2.dnn.NMSBoxes(boxes, confidences, self.confidence, self.threshold)\n",
    "\n",
    "        results = []\n",
    "        if len(idxs) > 0:\n",
    "            for i in idxs.flatten():\n",
    "                x, y = (boxes[i][0], boxes[i][1])\n",
    "                w, h = (boxes[i][2], boxes[i][3])\n",
    "                id = classIDs[i]\n",
    "                confidence = confidences[i]\n",
    "\n",
    "                print(self.labels)\n",
    "                results.append((id, self.labels[id], confidence, x, y, w, h))\n",
    "\n",
    "        return iw, ih, inference_time, results\n"
   ]
  },
  {
   "cell_type": "markdown",
   "metadata": {},
   "source": [
    "* Email Setup and Alerting part"
   ]
  },
  {
   "cell_type": "code",
   "execution_count": 3,
   "metadata": {},
   "outputs": [],
   "source": [
    "class Foo(object):\n",
    "    counter = 0\n",
    "    def __call__(self):\n",
    "        Foo.counter += 1\n",
    "        return(Foo.counter)\n",
    "    \n",
    "def email_alert():\n",
    "    import getpass\n",
    "    import smtplib\n",
    "    server = smtplib.SMTP('smtp.gmail.com',587)\n",
    "    server.ehlo()\n",
    "    \n",
    "    server.starttls()\n",
    "    username = 'v.snehith999@gmail.com'\n",
    "    passwd = getpass.getpass()\n",
    "    server.login(username,passwd)\n",
    "\n",
    "\n",
    "    from email.mime.multipart import MIMEMultipart\n",
    "    from email.mime.text import MIMEText\n",
    "    from email.mime.application import MIMEApplication\n",
    "    from datetime import datetime\n",
    "    \n",
    "    msg= MIMEMultipart()\n",
    "    msg['from'] = username\n",
    "    msg['to'] = username\n",
    "    msg['subject'] = \"Fire Images\"\n",
    "    text = \"Found Fire, have a look at sample images\"\n",
    "    msg.attach(MIMEText(text))\n",
    "    F = glob.glob(\"C:/Users/vsneh/Downloads/Replica/email_imgs/*\")\n",
    "    \n",
    "    count = 0\n",
    "    for i in F:\n",
    "        with open(i,'rb') as f:\n",
    "                part = MIMEApplication(f.read())\n",
    "                part.add_header('content-Disposition','attachment',filename='{}.jpg'.format(count+1))\n",
    "                msg.attach(part)\n",
    "    server.sendmail(username,username,msg.as_string())\n",
    "    "
   ]
  },
  {
   "cell_type": "markdown",
   "metadata": {},
   "source": [
    "* Read Video and Get Inference"
   ]
  },
  {
   "cell_type": "code",
   "execution_count": 4,
   "metadata": {},
   "outputs": [
    {
     "name": "stdout",
     "output_type": "stream",
     "text": [
      "frame:  1\n",
      "frame:  2\n",
      "frame:  3\n",
      "['Fire']\n",
      "frame:  4\n",
      "['Fire']\n",
      "frame:  5\n",
      "['Fire']\n",
      "Found Fire more than 3 frames, Raising Email-Alert\n",
      "········\n",
      "frame:  6\n",
      "['Fire']\n",
      "frame:  7\n",
      "frame:  8\n",
      "frame:  9\n",
      "frame:  10\n"
     ]
    },
    {
     "ename": "KeyboardInterrupt",
     "evalue": "",
     "output_type": "error",
     "traceback": [
      "\u001b[1;31m---------------------------------------------------------------------------\u001b[0m",
      "\u001b[1;31mKeyboardInterrupt\u001b[0m                         Traceback (most recent call last)",
      "\u001b[1;32m<ipython-input-4-210c033aa33d>\u001b[0m in \u001b[0;36m<module>\u001b[1;34m\u001b[0m\n\u001b[0;32m     12\u001b[0m \u001b[1;33m\u001b[0m\u001b[0m\n\u001b[0;32m     13\u001b[0m     \u001b[1;32mfor\u001b[0m \u001b[0mi\u001b[0m \u001b[1;32min\u001b[0m \u001b[0mrange\u001b[0m\u001b[1;33m(\u001b[0m\u001b[1;36m0\u001b[0m\u001b[1;33m,\u001b[0m \u001b[1;36m16\u001b[0m\u001b[1;33m)\u001b[0m\u001b[1;33m:\u001b[0m\u001b[1;33m\u001b[0m\u001b[1;33m\u001b[0m\u001b[0m\n\u001b[1;32m---> 14\u001b[1;33m         \u001b[0mgrabbed\u001b[0m\u001b[1;33m,\u001b[0m \u001b[0mframe\u001b[0m \u001b[1;33m=\u001b[0m \u001b[0mcap\u001b[0m\u001b[1;33m.\u001b[0m\u001b[0mread\u001b[0m\u001b[1;33m(\u001b[0m\u001b[1;33m)\u001b[0m\u001b[1;33m\u001b[0m\u001b[1;33m\u001b[0m\u001b[0m\n\u001b[0m\u001b[0;32m     15\u001b[0m         \u001b[1;32mif\u001b[0m \u001b[1;32mnot\u001b[0m \u001b[0mgrabbed\u001b[0m\u001b[1;33m:\u001b[0m\u001b[1;33m\u001b[0m\u001b[1;33m\u001b[0m\u001b[0m\n\u001b[0;32m     16\u001b[0m             \u001b[0mprint\u001b[0m\u001b[1;33m(\u001b[0m\u001b[1;34m\"[Info] No frame read from stream - exiting\"\u001b[0m\u001b[1;33m)\u001b[0m\u001b[1;33m\u001b[0m\u001b[1;33m\u001b[0m\u001b[0m\n",
      "\u001b[1;31mKeyboardInterrupt\u001b[0m: "
     ]
    }
   ],
   "source": [
    "cap=cv2.VideoCapture('input2.mp4')\n",
    "img_counter = 0\n",
    "fourcc = cv2.VideoWriter_fourcc(*'XVID')\n",
    "out = cv2.VideoWriter('output-1.avi', fourcc, 20.0, (640,  480))\n",
    "yolo = YOLO(\"yolov3/yolov3_custom.cfg\", \"yolov3/yolov3_custom1_1000.weights\", [\"Fire\"])\n",
    "foo = Foo()\n",
    "\n",
    "while True:\n",
    "    img_counter += 1\n",
    "    frames = []\n",
    "    print(\"frame: \", img_counter)\n",
    "    \n",
    "    for i in range(0, 16):\n",
    "        grabbed, frame = cap.read()\n",
    "        if not grabbed:\n",
    "            print(\"[Info] No frame read from stream - exiting\")\n",
    "            out.release()\n",
    "            sys.exit(0)\n",
    "            \n",
    "        frame = imutils.resize(frame, width=400)\n",
    "        frames.append(frame)\n",
    "    \n",
    "    width, height, inference_time, results = yolo.inference(frames[-1])\n",
    "\n",
    "    for detection in results:\n",
    "        id, name, confidence, x, y, w, h = detection\n",
    "        color = (0, 255, 255)\n",
    "        cv2.rectangle(frame, (x, y), (x + w, y + h), color, 2)\n",
    "        cv2.putText(frame, 'Fire', (x, y - 5), cv2.FONT_HERSHEY_SIMPLEX,0.5, color, 2)\n",
    "        cv2.imwrite('detected-images/{}.jpg'.format(img_counter), frame)\n",
    "        if(foo()==3):\n",
    "            print(\"Found Fire more than 3 frames, Raising Email-Alert\")\n",
    "            email_alert()\n",
    "\n",
    "    out.write(frame)\n",
    "    prv = cv2.resize(frame, (500,500))\n",
    "    cv2.imshow(\"preview\", prv)\n",
    "    if cv2.waitKey(1)==ord('q'):\n",
    "        break\n",
    "\n",
    "cap.release()\n",
    "cv2.destroyAllWindows()\n"
   ]
  },
  {
   "cell_type": "code",
   "execution_count": null,
   "metadata": {},
   "outputs": [],
   "source": []
  }
 ],
 "metadata": {
  "kernelspec": {
   "display_name": "Python 3",
   "language": "python",
   "name": "python3"
  },
  "language_info": {
   "codemirror_mode": {
    "name": "ipython",
    "version": 3
   },
   "file_extension": ".py",
   "mimetype": "text/x-python",
   "name": "python",
   "nbconvert_exporter": "python",
   "pygments_lexer": "ipython3",
   "version": "3.7.5"
  }
 },
 "nbformat": 4,
 "nbformat_minor": 2
}
